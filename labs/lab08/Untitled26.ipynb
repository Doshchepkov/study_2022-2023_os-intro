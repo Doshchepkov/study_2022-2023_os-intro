{
 "cells": [
  {
   "cell_type": "code",
   "execution_count": 19,
   "id": "8a7f19e8",
   "metadata": {},
   "outputs": [
    {
     "name": "stdout",
     "output_type": "stream",
     "text": [
      "P1 (Hex): d09dd0b0d092d0b0d188d0b8d181d185d0bed0b4d18fd189d0b8d0b9d0bed18231323034\n",
      "P2 (Hex): d092d0a1d0b5d0b2d0b5d180d0bdd18bd0b9d184d0b8d0bbd0b8d0b0d0bbd091d0b0d0bdd0bad0b0\n",
      "K_bytes (Hex): 050c177f0e4e37d29410092e2257ffc80bb27054050c177f0e4e37d29410092e2257ffc80bb27054\n",
      "C1 (Hex): d591c7cfdedce7624598d996f3d62e4ddb0ca0e0d483c6f6def6e76b44aed8ac1365cffc\n",
      "C2 (Hex): d59ec7dedefbe76044a5d8aef2ea2e43db0ba1d0d5b4c7c4def6e76244abd9bff2e72f75db08a0e4\n",
      "P1_decrypted: НаВашисходящийот1204\n",
      "P2_decrypted: ВСеверныйфилиалБанка\n"
     ]
    }
   ],
   "source": [
    "def xor_bytes(data, key):\n",
    "    return bytes(a ^ b for a, b in zip(data, key))\n",
    "\n",
    "# Представление ключа в hex формате\n",
    "K_hex = \"05 0C 17 7F 0E 4E 37 D2 94 10 09 2E 22 57 FF C8 0B B2 70 54\"\n",
    "K_bytes = bytes.fromhex(K_hex)\n",
    "\n",
    "# Исходные данные\n",
    "P1 = \"НаВашисходящийот1204\".encode('utf-8')\n",
    "P2 = \"ВСеверныйфилиалБанка\".encode('utf-8')\n",
    "\n",
    "# Проверка длины ключа и данных и подгонка длины ключа\n",
    "max_len = max(len(P1), len(P2))\n",
    "K_bytes = (K_bytes * ((max_len + len(K_bytes) - 1) // len(K_bytes)))[:max_len]\n",
    "\n",
    "# Шифрование\n",
    "C1 = xor_bytes(P1, K_bytes)\n",
    "C2 = xor_bytes(P2, K_bytes)\n",
    "\n",
    "print(\"P1 (Hex):\", P1.hex())\n",
    "print(\"P2 (Hex):\", P2.hex())\n",
    "print(\"K_bytes (Hex):\", K_bytes.hex())\n",
    "print(\"C1 (Hex):\", C1.hex())\n",
    "print(\"C2 (Hex):\", C2.hex())\n",
    "\n",
    "# Дешифрование для проверки\n",
    "P1_decrypted = xor_bytes(C1, K_bytes)\n",
    "P2_decrypted = xor_bytes(C2, K_bytes)\n",
    "print(\"P1_decrypted:\", P1_decrypted.decode('utf-8'))\n",
    "print(\"P2_decrypted:\", P2_decrypted.decode('utf-8'))\n"
   ]
  },
  {
   "cell_type": "code",
   "execution_count": 22,
   "id": "6a292c1f",
   "metadata": {},
   "outputs": [
    {
     "name": "stdout",
     "output_type": "stream",
     "text": [
      "P1 (Decoded): \u0005\u0003\u0017n\u000ei7Ð-\b\u0016#kÿÆ\u000b",
      "µqd\u0004;\u0016M\u000eN7Û\u0015\b=ÃÕ\u001fA\n",
      "P2 (Decoded): ВСеверныйфилиалБан\n"
     ]
    }
   ],
   "source": [
    "P1_xor_P2 = xor_bytes(C1, C2)\n",
    "\n",
    "# Предположим, что мы знаем, что один из оригинальных текстов начинается с \"НаВашисходящийот1204\"\n",
    "# Это предположение может быть сделано на основе контекста или другой информации\n",
    "known_text = \"НаВашисходящийот1204\".encode('utf-8')\n",
    "\n",
    "# Применяем операцию XOR к P1_xor_P2 и известному тексту, чтобы получить второй оригинальный текст\n",
    "P2 = xor_bytes(P1_xor_P2, known_text)\n",
    "\n",
    "# Декодируем первый оригинальный текст (для проверки)\n",
    "P1 = xor_bytes(C1, P2)\n",
    "\n",
    "print(\"P1 (Decoded):\", P1.decode('latin-1'))\n",
    "print(\"P2 (Decoded):\", P2.decode('utf-8'))"
   ]
  },
  {
   "cell_type": "code",
   "execution_count": null,
   "id": "8a830253",
   "metadata": {},
   "outputs": [],
   "source": []
  }
 ],
 "metadata": {
  "kernelspec": {
   "display_name": "Python 3 (ipykernel)",
   "language": "python",
   "name": "python3"
  },
  "language_info": {
   "codemirror_mode": {
    "name": "ipython",
    "version": 3
   },
   "file_extension": ".py",
   "mimetype": "text/x-python",
   "name": "python",
   "nbconvert_exporter": "python",
   "pygments_lexer": "ipython3",
   "version": "3.11.5"
  }
 },
 "nbformat": 4,
 "nbformat_minor": 5
}
